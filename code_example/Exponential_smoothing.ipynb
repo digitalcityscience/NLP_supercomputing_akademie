{
 "cells": [
  {
   "cell_type": "code",
   "execution_count": null,
   "id": "d835e8e8",
   "metadata": {},
   "outputs": [],
   "source": [
    "# downloading dataset\n",
    "import pandas as pd\n",
    "df = pd.read_csv('Covid19_ts.csv',parse_dates=['Date'])\n",
    "df['Date'] = pd.to_datetime(df['Date'])\n",
    "df = pd.DataFrame(df, columns=['Date','Confirmed']).set_index('Date')\n",
    "train = df.iloc[:200, :]\n",
    "train.index = pd.to_datetime(train.index)# convert index to datetime format\n",
    "df"
   ]
  },
  {
   "cell_type": "code",
   "execution_count": null,
   "id": "8891bebb",
   "metadata": {},
   "outputs": [],
   "source": [
    "#simple exponential smoothing \n",
    "import matplotlib.pyplot as plt\n",
    "import matplotlib.dates as mdates\n",
    "from statsmodels.tsa.holtwinters import SimpleExpSmoothing, Holt\n",
    "import numpy as np\n",
    "train_data = pd.Series(train.Confirmed, train.index)\n",
    "\n",
    "# building ES model \n",
    "model = SimpleExpSmoothing(train_data, initialization_method=\"heuristic\")\n",
    "\n",
    "\n",
    "# The smoothing_level value of the simple exponential smoothing, if the value is set then this value will be used as the value.\n",
    "fm1 = model.fit(smoothing_level=.2)#fitting the model\n",
    "fcast_1 = fm1.forecast(9).rename(r\"$\\alpha=0.2$\")# The number of out of sample forecasts from the end of the sample.\n",
    "fm2 = model.fit(smoothing_level=.9)\n",
    "fcast_2 = fm2.forecast(9).rename(r\"$\\alpha=0.9$\")\n",
    "fm3 = model.fit(smoothing_level=.5)\n",
    "fcast_3 = fm3.forecast(9).rename(r\"$\\alpha=0.5$\")"
   ]
  },
  {
   "cell_type": "code",
   "execution_count": null,
   "id": "77347cf3",
   "metadata": {},
   "outputs": [],
   "source": [
    "fcast_2"
   ]
  },
  {
   "cell_type": "code",
   "execution_count": null,
   "id": "8a7f3069",
   "metadata": {},
   "outputs": [],
   "source": [
    "plt.figure(figsize=(10, 6))\n",
    "(line0,) = plt.plot(train_data,  color=\"black\")# plotting real temporal data\n",
    "plt.plot(fm1.fittedvalues, color=\"blue\")\n",
    "(line1,) = plt.plot(fcast_1, marker=\".\", color=\"blue\")\n",
    "plt.plot(fm2.fittedvalues, color=\"red\")\n",
    "(line2,) = plt.plot(fcast_2, marker=\".\", color=\"red\")\n",
    "plt.plot(fm3.fittedvalues, color=\"green\")\n",
    "(line3,) = plt.plot(fcast_3, marker=\".\", color=\"green\")\n",
    "plt.legend([line1, line2, line3], [fcast_1.name, fcast_2.name, fcast_3.name])\n",
    "plt.legend([line0, line1, line2, line3], ['true data',fcast_1.name, fcast_2.name, fcast_3.name])\n",
    "# this will results in the forecasts with same value for all dates (9 out of the sample forecasts)\n",
    "# because no trends are incorporated "
   ]
  },
  {
   "cell_type": "code",
   "execution_count": null,
   "id": "cddc11a1",
   "metadata": {},
   "outputs": [],
   "source": [
    "# Holt exponential smoothing\n",
    "# preparing the data; removing rows with zero values\n",
    "df = pd.read_csv('Covid19_ts.csv',parse_dates=['Date'])\n",
    "# remove zeros from the dataset, this will result in disonnection in the time series,\n",
    "# thats why, we generate the time series manually..\n",
    "df1 = df[df['Confirmed']> 0]\n",
    "#get values without index\n",
    "df1 = df1['Confirmed'].values\n",
    "# convert from np array into list \n",
    "df1 = df1.tolist()\n",
    "# select the first 215 values\n",
    "df1 = df1[:215]\n",
    "# generate time sequence\n",
    "index = pd.date_range(start='01/31/2020', end='9/01/2020')\n",
    "len(index)\n",
    "# join datetime into the data\n",
    "train_data = pd.Series(df1, index)\n",
    "\n",
    "# linear smoothing\n",
    "Holt_fit1 = Holt(train_data, initialization_method=\"estimated\").fit(\n",
    "    smoothing_level=0.9, smoothing_trend=0.2, optimized=False)\n",
    "fcast_holt_1 = Holt_fit1.forecast(5).rename(\"Holt's linear trend\")\n",
    "#exponential smoothing \n",
    "Holt_fit2 = Holt(train_data, exponential=True, initialization_method=\"estimated\").fit(\n",
    "    smoothing_level=0.9, smoothing_trend=0.2, optimized=False)\n",
    "fcast_holt_2 = Holt_fit2.forecast(5).rename(\"Exponential trend\")\n",
    "\n",
    "#Additive damped trend\n",
    "Holt_fit3 = Holt(train_data, damped_trend=True, initialization_method=\"estimated\").fit(\n",
    "    smoothing_level=0.9, smoothing_trend=0.2)\n",
    "fcast_holt_3 = Holt_fit3.forecast(5).rename(\"Additive damped trend\")\n",
    "\n",
    "plt.figure(figsize=(10, 6))\n",
    "(line0,) = plt.plot(train_data,  color=\"black\", label ='true data')\n",
    "plt.plot(Holt_fit1.fittedvalues, color=\"blue\", label ='linear smoothing')\n",
    "(line1,) = plt.plot(fcast_holt_1, marker=\"o\", color=\"blue\")\n",
    "#plt.plot(fcast_holt_2 , color=\"blue\")\n",
    "plt.plot(Holt_fit2.fittedvalues, color=\"red\",label ='exponential smoothing')\n",
    "(line2,) = plt.plot(fcast_holt_2, marker=\"o\", color=\"red\")\n",
    "plt.plot(Holt_fit3.fittedvalues, color=\"green\", label ='Additive damped trend')\n",
    "(line3,) = plt.plot(fcast_holt_3, marker=\"o\", color=\"green\")\n",
    "plt.legend(loc=\"upper left\")\n",
    "plt.show()\n",
    "# forecasts show clearly the trend now..\n"
   ]
  },
  {
   "cell_type": "code",
   "execution_count": null,
   "id": "1c7d91ee",
   "metadata": {},
   "outputs": [],
   "source": []
  }
 ],
 "metadata": {
  "kernelspec": {
   "display_name": "Python 3 (ipykernel)",
   "language": "python",
   "name": "python3"
  },
  "language_info": {
   "codemirror_mode": {
    "name": "ipython",
    "version": 3
   },
   "file_extension": ".py",
   "mimetype": "text/x-python",
   "name": "python",
   "nbconvert_exporter": "python",
   "pygments_lexer": "ipython3",
   "version": "3.10.11"
  }
 },
 "nbformat": 4,
 "nbformat_minor": 5
}
